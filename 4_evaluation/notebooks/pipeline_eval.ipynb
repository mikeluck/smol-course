{
 "cells": [
  {
   "cell_type": "markdown",
   "metadata": {},
   "source": [
    "# SFT Ablation Experiment\n",
    "- 加载模型及评估数据集\n",
    "- 使用评估数据集检测模型，获得量化结果\n",
    "- 使用 thinking 数据集微调模型，获得 模型-R1\n",
    "- 使用评估数据集检测 模型-R1，获得量化结果\n",
    "- 对比模型微调前后效果"
   ]
  },
  {
   "cell_type": "markdown",
   "metadata": {},
   "source": [
    "# 1. Load datasets"
   ]
  },
  {
   "cell_type": "code",
   "execution_count": 19,
   "metadata": {},
   "outputs": [
    {
     "data": {
      "text/plain": [
       "DatasetDict({\n",
       "    test: Dataset({\n",
       "        features: ['problem', 'solution', 'answer', 'subject', 'level', 'unique_id'],\n",
       "        num_rows: 500\n",
       "    })\n",
       "})"
      ]
     },
     "execution_count": 19,
     "metadata": {},
     "output_type": "execute_result"
    }
   ],
   "source": [
    "from datasets import load_dataset, Dataset\n",
    "\n",
    "# eval_ds_name = \"openai/gsm8k\" # openai original dataset\n",
    "# eval_ds_name = \"swulling/gsm8k_chinese\" #gsm8k chinese\n",
    "eval_ds_name = \"HuggingFaceH4/MATH-500\" #math-500\n",
    "\n",
    "eval_ds = load_dataset(eval_ds_name)\n",
    "eval_ds"
   ]
  },
  {
   "cell_type": "code",
   "execution_count": 13,
   "metadata": {},
   "outputs": [
    {
     "data": {
      "text/plain": [
       "{'problem': 'Convert the point $(0,3)$ in rectangular coordinates to polar coordinates.  Enter your answer in the form $(r,\\\\theta),$ where $r > 0$ and $0 \\\\le \\\\theta < 2 \\\\pi.$',\n",
       " 'solution': 'We have that $r = \\\\sqrt{0^2 + 3^2} = 3.$  Also, if we draw the line connecting the origin and $(0,3),$ this line makes an angle of $\\\\frac{\\\\pi}{2}$ with the positive $x$-axis.\\n\\n[asy]\\nunitsize(0.8 cm);\\n\\ndraw((-0.5,0)--(3.5,0));\\ndraw((0,-0.5)--(0,3.5));\\ndraw(arc((0,0),3,0,90),red,Arrow(6));\\n\\ndot((0,3), red);\\nlabel(\"$(0,3)$\", (0,3), W);\\ndot((3,0), red);\\n[/asy]\\n\\nTherefore, the polar coordinates are $\\\\boxed{\\\\left( 3, \\\\frac{\\\\pi}{2} \\\\right)}.$',\n",
       " 'answer': '\\\\left( 3, \\\\frac{\\\\pi}{2} \\\\right)',\n",
       " 'subject': 'Precalculus',\n",
       " 'level': 2,\n",
       " 'unique_id': 'test/precalculus/807.json'}"
      ]
     },
     "execution_count": 13,
     "metadata": {},
     "output_type": "execute_result"
    }
   ],
   "source": [
    "eval_ds['test'][0]"
   ]
  },
  {
   "cell_type": "markdown",
   "metadata": {},
   "source": [
    "# 2. Load Model"
   ]
  },
  {
   "cell_type": "code",
   "execution_count": 15,
   "metadata": {},
   "outputs": [],
   "source": [
    "import torch\n",
    "from transformers import AutoModelForCausalLM, AutoTokenizer\n",
    "\n",
    "device = (\n",
    "    \"cuda\"\n",
    "    if torch.cuda.is_available()\n",
    "    else \"mps\" if torch.backends.mps.is_available() else \"cpu\"\n",
    ")\n",
    "\n",
    "# Load the model and tokenizer\n",
    "model_name = \"Qwen/Qwen2.5-0.5B-Instruct\"\n",
    "\n",
    "eval_model = AutoModelForCausalLM.from_pretrained(\n",
    "    pretrained_model_name_or_path=model_name\n",
    ").to(device)\n",
    "\n",
    "eval_model.eval()\n",
    "\n",
    "tokenizer = AutoTokenizer.from_pretrained(pretrained_model_name_or_path=model_name)\n",
    "tokenizer.padding_side = 'left'"
   ]
  },
  {
   "cell_type": "code",
   "execution_count": 20,
   "metadata": {},
   "outputs": [
    {
     "data": {
      "application/vnd.jupyter.widget-view+json": {
       "model_id": "36fe3b654d4b4cfabbb43aa4506c8b33",
       "version_major": 2,
       "version_minor": 0
      },
      "text/plain": [
       "Map (num_proc=8):   0%|          | 0/500 [00:00<?, ? examples/s]"
      ]
     },
     "metadata": {},
     "output_type": "display_data"
    },
    {
     "data": {
      "text/plain": [
       "Dataset({\n",
       "    features: ['content'],\n",
       "    num_rows: 500\n",
       "})"
      ]
     },
     "execution_count": 20,
     "metadata": {},
     "output_type": "execute_result"
    }
   ],
   "source": [
    "prefix_prompt = \"Please reason step by step, and put your final answer within \\\\boxed{}.\\n\"\n",
    "\n",
    "\n",
    "def process_data(sample):\n",
    "    messages = [\n",
    "        {\"role\": \"user\", \"content\": prefix_prompt + sample[\"problem\"]},\n",
    "    ]\n",
    "    content = tokenizer.apply_chat_template(messages, tokenize=False, add_generation_prompt=True)\n",
    "    return {\"content\": content}\n",
    "\n",
    "eval_ds = eval_ds.map(\n",
    "    process_data,\n",
    "    num_proc=8,\n",
    "    remove_columns=['problem', 'solution', 'answer', 'subject', 'level', 'unique_id'])\n",
    "eval_ds['test']"
   ]
  },
  {
   "cell_type": "code",
   "execution_count": 21,
   "metadata": {},
   "outputs": [
    {
     "name": "stdout",
     "output_type": "stream",
     "text": [
      "<|im_start|>system\n",
      "You are Qwen, created by Alibaba Cloud. You are a helpful assistant.<|im_end|>\n",
      "<|im_start|>user\n",
      "Please reason step by step, and put your final answer within \\boxed{}.\n",
      "Convert the point $(0,3)$ in rectangular coordinates to polar coordinates.  Enter your answer in the form $(r,\\theta),$ where $r > 0$ and $0 \\le \\theta < 2 \\pi.$<|im_end|>\n",
      "<|im_start|>assistant\n",
      "\n"
     ]
    }
   ],
   "source": [
    "# eval_ds['train'][0]\n",
    "print(eval_ds['test'][0]['content'])"
   ]
  },
  {
   "cell_type": "markdown",
   "metadata": {},
   "source": [
    "# 3. Inference with `model.generate`"
   ]
  },
  {
   "cell_type": "code",
   "execution_count": 12,
   "metadata": {},
   "outputs": [],
   "source": [
    "from tqdm.auto import tqdm\n",
    "from torch.utils.data import DataLoader\n",
    "from typing import List"
   ]
  },
  {
   "cell_type": "code",
   "execution_count": 14,
   "metadata": {},
   "outputs": [],
   "source": [
    "def batch_inference(\n",
    "        dataset:Dataset, \n",
    "        model:AutoModelForCausalLM,\n",
    "        tokenizer:AutoTokenizer,\n",
    "        col:str,\n",
    "        max_length:int=1024,\n",
    "        batch_size:int=8,\n",
    "        max_new_tokens:int=512) -> List:\n",
    "    data_loader = DataLoader(dataset, batch_size=batch_size, shuffle=False, num_workers=8)\n",
    "\n",
    "    results = []\n",
    "\n",
    "    for batch in tqdm(data_loader, total=len(data_loader), desc='Bacth inferencing..'):\n",
    "        texts = batch[col]\n",
    "\n",
    "        inputs = tokenizer(\n",
    "            texts,\n",
    "            padding=True,\n",
    "            truncation=True,\n",
    "            max_length=max_length,\n",
    "            return_tensors=\"pt\"\n",
    "        ).to(model.device)\n",
    "\n",
    "        # 生成文本\n",
    "        with torch.no_grad():\n",
    "            outputs = model.generate(\n",
    "                **inputs,\n",
    "                max_new_tokens=max_new_tokens\n",
    "            )\n",
    "\n",
    "        # 截断输入部分并解码\n",
    "        generated_ids = outputs[:, inputs.input_ids.shape[1]:].detach().cpu()\n",
    "        batch_outputs = tokenizer.batch_decode(\n",
    "            generated_ids,\n",
    "            skip_special_tokens=True,\n",
    "            clean_up_tokenization_spaces=True\n",
    "        )\n",
    "        results.extend(batch_outputs)\n",
    "    return results"
   ]
  },
  {
   "cell_type": "code",
   "execution_count": null,
   "metadata": {},
   "outputs": [],
   "source": [
    "responses = batch_inference(\n",
    "    dataset=eval_ds['test'],\n",
    "    model=eval_model,\n",
    "    tokenizer=tokenizer,\n",
    "    col='content',\n",
    "    batch_size=32,\n",
    "    max_new_tokens=512)\n"
   ]
  },
  {
   "cell_type": "markdown",
   "metadata": {},
   "source": [
    "# Metrics"
   ]
  },
  {
   "cell_type": "code",
   "execution_count": 22,
   "metadata": {},
   "outputs": [],
   "source": [
    "import pandas as pd"
   ]
  },
  {
   "cell_type": "code",
   "execution_count": 31,
   "metadata": {},
   "outputs": [
    {
     "name": "stdout",
     "output_type": "stream",
     "text": [
      "<class 'pandas.core.frame.DataFrame'>\n",
      "RangeIndex: 500 entries, 0 to 499\n",
      "Data columns (total 9 columns):\n",
      " #   Column       Non-Null Count  Dtype \n",
      "---  ------       --------------  ----- \n",
      " 0   problem      500 non-null    object\n",
      " 1   solution     500 non-null    object\n",
      " 2   answer       500 non-null    object\n",
      " 3   subject      500 non-null    object\n",
      " 4   level        500 non-null    int64 \n",
      " 5   unique_id    500 non-null    object\n",
      " 6   content      500 non-null    object\n",
      " 7   qwen_answer  500 non-null    object\n",
      " 8   only_answer  500 non-null    object\n",
      "dtypes: int64(1), object(8)\n",
      "memory usage: 35.3+ KB\n"
     ]
    },
    {
     "data": {
      "text/html": [
       "<div>\n",
       "<style scoped>\n",
       "    .dataframe tbody tr th:only-of-type {\n",
       "        vertical-align: middle;\n",
       "    }\n",
       "\n",
       "    .dataframe tbody tr th {\n",
       "        vertical-align: top;\n",
       "    }\n",
       "\n",
       "    .dataframe thead th {\n",
       "        text-align: right;\n",
       "    }\n",
       "</style>\n",
       "<table border=\"1\" class=\"dataframe\">\n",
       "  <thead>\n",
       "    <tr style=\"text-align: right;\">\n",
       "      <th></th>\n",
       "      <th>problem</th>\n",
       "      <th>solution</th>\n",
       "      <th>answer</th>\n",
       "      <th>subject</th>\n",
       "      <th>level</th>\n",
       "      <th>unique_id</th>\n",
       "      <th>content</th>\n",
       "      <th>qwen_answer</th>\n",
       "      <th>only_answer</th>\n",
       "    </tr>\n",
       "  </thead>\n",
       "  <tbody>\n",
       "    <tr>\n",
       "      <th>0</th>\n",
       "      <td>Convert the point $(0,3)$ in rectangular coord...</td>\n",
       "      <td>We have that $r = \\sqrt{0^2 + 3^2} = 3.$  Also...</td>\n",
       "      <td>\\left( 3, \\frac{\\pi}{2} \\right)</td>\n",
       "      <td>Precalculus</td>\n",
       "      <td>2</td>\n",
       "      <td>test/precalculus/807.json</td>\n",
       "      <td>&lt;|im_start|&gt;system\\nYou are Qwen, created by A...</td>\n",
       "      <td>To convert the point \\((0,3)\\) from rectangula...</td>\n",
       "      <td>[]</td>\n",
       "    </tr>\n",
       "    <tr>\n",
       "      <th>1</th>\n",
       "      <td>Define\\n\\[p = \\sum_{k = 1}^\\infty \\frac{1}{k^2...</td>\n",
       "      <td>We count the number of times $\\frac{1}{n^3}$ a...</td>\n",
       "      <td>p - q</td>\n",
       "      <td>Intermediate Algebra</td>\n",
       "      <td>5</td>\n",
       "      <td>test/intermediate_algebra/1994.json</td>\n",
       "      <td>&lt;|im_start|&gt;system\\nYou are Qwen, created by A...</td>\n",
       "      <td>To find the expression for \\(\\sum_{j=1}^\\infty...</td>\n",
       "      <td>[\\sum_{m=1]</td>\n",
       "    </tr>\n",
       "    <tr>\n",
       "      <th>2</th>\n",
       "      <td>If $f(x) = \\frac{3x-2}{x-2}$, what is the valu...</td>\n",
       "      <td>$f(-2)+f(-1)+f(0)=\\frac{3(-2)-2}{-2-2}+\\frac{3...</td>\n",
       "      <td>\\frac{14}{3}</td>\n",
       "      <td>Algebra</td>\n",
       "      <td>3</td>\n",
       "      <td>test/algebra/2584.json</td>\n",
       "      <td>&lt;|im_start|&gt;system\\nYou are Qwen, created by A...</td>\n",
       "      <td>To find the value of \\( f(-2) + f(-1) + f(0) \\...</td>\n",
       "      <td>[\\frac{14]</td>\n",
       "    </tr>\n",
       "    <tr>\n",
       "      <th>3</th>\n",
       "      <td>How many positive whole-number divisors does 1...</td>\n",
       "      <td>First prime factorize $196=2^2\\cdot7^2$.  The ...</td>\n",
       "      <td>9</td>\n",
       "      <td>Number Theory</td>\n",
       "      <td>3</td>\n",
       "      <td>test/number_theory/572.json</td>\n",
       "      <td>&lt;|im_start|&gt;system\\nYou are Qwen, created by A...</td>\n",
       "      <td>To determine the number of positive whole-numb...</td>\n",
       "      <td>[12]</td>\n",
       "    </tr>\n",
       "    <tr>\n",
       "      <th>4</th>\n",
       "      <td>The results of a cross-country team's training...</td>\n",
       "      <td>Evelyn covered more distance in less time than...</td>\n",
       "      <td>\\text{Evelyn}</td>\n",
       "      <td>Algebra</td>\n",
       "      <td>2</td>\n",
       "      <td>test/algebra/1349.json</td>\n",
       "      <td>&lt;|im_start|&gt;system\\nYou are Qwen, created by A...</td>\n",
       "      <td>To determine which student has the greatest av...</td>\n",
       "      <td>[Evelyn]</td>\n",
       "    </tr>\n",
       "  </tbody>\n",
       "</table>\n",
       "</div>"
      ],
      "text/plain": [
       "                                             problem  \\\n",
       "0  Convert the point $(0,3)$ in rectangular coord...   \n",
       "1  Define\\n\\[p = \\sum_{k = 1}^\\infty \\frac{1}{k^2...   \n",
       "2  If $f(x) = \\frac{3x-2}{x-2}$, what is the valu...   \n",
       "3  How many positive whole-number divisors does 1...   \n",
       "4  The results of a cross-country team's training...   \n",
       "\n",
       "                                            solution  \\\n",
       "0  We have that $r = \\sqrt{0^2 + 3^2} = 3.$  Also...   \n",
       "1  We count the number of times $\\frac{1}{n^3}$ a...   \n",
       "2  $f(-2)+f(-1)+f(0)=\\frac{3(-2)-2}{-2-2}+\\frac{3...   \n",
       "3  First prime factorize $196=2^2\\cdot7^2$.  The ...   \n",
       "4  Evelyn covered more distance in less time than...   \n",
       "\n",
       "                            answer               subject  level  \\\n",
       "0  \\left( 3, \\frac{\\pi}{2} \\right)           Precalculus      2   \n",
       "1                            p - q  Intermediate Algebra      5   \n",
       "2                     \\frac{14}{3}               Algebra      3   \n",
       "3                                9         Number Theory      3   \n",
       "4                    \\text{Evelyn}               Algebra      2   \n",
       "\n",
       "                             unique_id  \\\n",
       "0            test/precalculus/807.json   \n",
       "1  test/intermediate_algebra/1994.json   \n",
       "2               test/algebra/2584.json   \n",
       "3          test/number_theory/572.json   \n",
       "4               test/algebra/1349.json   \n",
       "\n",
       "                                             content  \\\n",
       "0  <|im_start|>system\\nYou are Qwen, created by A...   \n",
       "1  <|im_start|>system\\nYou are Qwen, created by A...   \n",
       "2  <|im_start|>system\\nYou are Qwen, created by A...   \n",
       "3  <|im_start|>system\\nYou are Qwen, created by A...   \n",
       "4  <|im_start|>system\\nYou are Qwen, created by A...   \n",
       "\n",
       "                                         qwen_answer  only_answer  \n",
       "0  To convert the point \\((0,3)\\) from rectangula...           []  \n",
       "1  To find the expression for \\(\\sum_{j=1}^\\infty...  [\\sum_{m=1]  \n",
       "2  To find the value of \\( f(-2) + f(-1) + f(0) \\...   [\\frac{14]  \n",
       "3  To determine the number of positive whole-numb...         [12]  \n",
       "4  To determine which student has the greatest av...     [Evelyn]  "
      ]
     },
     "execution_count": 31,
     "metadata": {},
     "output_type": "execute_result"
    }
   ],
   "source": [
    "data_path = '../../data/math500_eval.jsonl'\n",
    "df = pd.read_json(data_path,)\n",
    "df.info()\n",
    "df.head()"
   ]
  },
  {
   "cell_type": "code",
   "execution_count": null,
   "metadata": {},
   "outputs": [],
   "source": []
  }
 ],
 "metadata": {
  "kernelspec": {
   "display_name": "ml",
   "language": "python",
   "name": "python3"
  },
  "language_info": {
   "codemirror_mode": {
    "name": "ipython",
    "version": 3
   },
   "file_extension": ".py",
   "mimetype": "text/x-python",
   "name": "python",
   "nbconvert_exporter": "python",
   "pygments_lexer": "ipython3",
   "version": "3.10.13"
  }
 },
 "nbformat": 4,
 "nbformat_minor": 2
}
