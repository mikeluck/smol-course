{
 "cells": [
  {
   "cell_type": "markdown",
   "metadata": {},
   "source": [
    "# Supervised Fine-Tuning with SFTTrainer\n",
    "\n",
    "This notebook demonstrates how to fine-tune the `HuggingFaceTB/SmolLM2-135M` model using the `SFTTrainer` from the `trl` library. The notebook cells run and will finetune the model. You can select your difficulty by trying out different datasets.\n",
    "\n",
    "<div style='background-color: lightblue; padding: 10px; border-radius: 5px; margin-bottom: 20px; color:black'>\n",
    "    <h2 style='margin: 0;color:blue'>Exercise: Fine-Tuning SmolLM2 with SFTTrainer</h2>\n",
    "    <p>Take a dataset from the Hugging Face hub and finetune a model on it. </p> \n",
    "    <p><b>Difficulty Levels</b></p>\n",
    "    <p>🐢 Use the `HuggingFaceTB/smoltalk` dataset</p>\n",
    "    <p>🐕 Try out the `bigcode/the-stack-smol` dataset and finetune a code generation model on a specific subset `data/python`.</p>\n",
    "    <p>🦁 Select a dataset that relates to a real world use case your interested in</p>\n",
    "</div>"
   ]
  },
  {
   "cell_type": "code",
   "execution_count": 2,
   "metadata": {},
   "outputs": [],
   "source": [
    "# # Install the requirements in Google Colab\n",
    "# # !pip install transformers datasets trl huggingface_hub\n",
    "\n",
    "# # Authenticate to Hugging Face\n",
    "\n",
    "# from huggingface_hub import login\n",
    "# login()\n",
    "\n",
    "# # for convenience you can create an environment variable containing your hub token as HF_TOKEN"
   ]
  },
  {
   "cell_type": "markdown",
   "metadata": {},
   "source": [
    "- `Base-Model` -> `SFT-Model`\n",
    "- `Instructed-Model` -> `Reasoning-Model`"
   ]
  },
  {
   "cell_type": "code",
   "execution_count": 1,
   "metadata": {},
   "outputs": [],
   "source": [
    "# Import necessary libraries\n",
    "from transformers import AutoModelForCausalLM, AutoTokenizer\n",
    "from datasets import load_dataset\n",
    "from trl import SFTConfig, SFTTrainer, setup_chat_format\n",
    "import torch\n",
    "\n",
    "device = (\n",
    "    \"cuda\"\n",
    "    if torch.cuda.is_available()\n",
    "    else \"mps\" if torch.backends.mps.is_available() else \"cpu\"\n",
    ")\n",
    "\n",
    "# Load the model and tokenizer\n",
    "model_name = \"HuggingFaceTB/SmolLM2-135M\"\n",
    "# model_name = \"HuggingFaceTB/SmolLM2-135M-Instruct\"\n",
    "# model_name = \"Qwen/Qwen2.5-0.5B\"\n",
    "# model_name = \"Qwen/Qwen2.5-0.5B-Instruct\"\n",
    "# r1_model_name = \"open-r1/OpenR1-Qwen-7B\"\n",
    "# r1_model_name = \"HuggingFaceTB/SmolLM2-135M-Instruct\"\n",
    "# r1_model_name = \"deepseek-ai/DeepSeek-R1-Distill-Qwen-1.5B\"\n",
    "\n",
    "model = AutoModelForCausalLM.from_pretrained(\n",
    "    pretrained_model_name_or_path=model_name\n",
    ").to(device)\n",
    "\n",
    "tokenizer = AutoTokenizer.from_pretrained(pretrained_model_name_or_path=model_name)\n",
    "r1_tokenizer = AutoTokenizer.from_pretrained(pretrained_model_name_or_path=model_name)\n",
    "\n",
    "# Set up the chat format\n",
    "# model, tokenizer = setup_chat_format(model=model, tokenizer=tokenizer)\n",
    "\n",
    "# Set our name for the finetune to be saved &/ uploaded to\n",
    "# finetune_name = \"SmolLM2-FT-MyDataset\"\n",
    "# finetune_tags = [\"smol-course\", \"module_1\"]"
   ]
  },
  {
   "cell_type": "code",
   "execution_count": 4,
   "metadata": {},
   "outputs": [
    {
     "data": {
      "text/plain": [
       "{'bos_token': '<|endoftext|>',\n",
       " 'eos_token': '<|endoftext|>',\n",
       " 'unk_token': '<|endoftext|>',\n",
       " 'additional_special_tokens': ['<|endoftext|>',\n",
       "  '<|im_start|>',\n",
       "  '<|im_end|>',\n",
       "  '<repo_name>',\n",
       "  '<reponame>',\n",
       "  '<file_sep>',\n",
       "  '<filename>',\n",
       "  '<gh_stars>',\n",
       "  '<issue_start>',\n",
       "  '<issue_comment>',\n",
       "  '<issue_closed>',\n",
       "  '<jupyter_start>',\n",
       "  '<jupyter_text>',\n",
       "  '<jupyter_code>',\n",
       "  '<jupyter_output>',\n",
       "  '<jupyter_script>',\n",
       "  '<empty_output>']}"
      ]
     },
     "execution_count": 4,
     "metadata": {},
     "output_type": "execute_result"
    }
   ],
   "source": [
    "tokenizer.special_tokens_map"
   ]
  },
  {
   "cell_type": "code",
   "execution_count": null,
   "metadata": {},
   "outputs": [],
   "source": [
    "chat_template = \"\"\"{% for message in messages %}{% if loop.first and messages[0]['role'] != 'system' %}{{ '<|im_start|>system\n",
    "You are a helpful AI assistant named MKLLM, trained by mikeluck<|im_end|>\n",
    "' }}{% endif %}{{'<|im_start|>' + message['role'] + '\n",
    "' + message['content'] + '<|im_end|>' + '\n",
    "'}}{% endfor %}{% if add_generation_prompt %}{{ '<|im_start|>assistant\n",
    "' }}{% endif %}\"\"\"\n",
    "\n",
    "r1_tokenizer.chat_template = chat_template\n",
    "print(tokenizer.chat_template) #base model tokenizer is none\n",
    "print(\"#\"*200)\n",
    "print(r1_tokenizer.chat_template) #replace instructed model chat template"
   ]
  },
  {
   "cell_type": "code",
   "execution_count": 2,
   "metadata": {},
   "outputs": [],
   "source": [
    "# print(f\"Before extended tokenizer size: {len(tokenizer)}\")\n",
    "# print(f\"Before token embedding size: {model.config.vocab_size}\")\n",
    "# model\n",
    "# n_params = 0\n",
    "# for name, params in model.named_parameters():\n",
    "#     n_params += params.numel()\n",
    "#     print(f\"{name}: {params.size()}, - {params.numel():,}\")\n",
    "# print(f\"Total Parameters: {n_params:,}\")\n",
    "# tokenizer.all_special_tokens, tokenizer.special_tokens_map"
   ]
  },
  {
   "cell_type": "code",
   "execution_count": 13,
   "metadata": {},
   "outputs": [],
   "source": [
    "# # extend special tokens\n",
    "# special_tokens_dict = {\"additional_special_tokens\": tokenizer.special_tokens_map['additional_special_tokens'] + [\"<|think|>\", \"<|think_end|>\"]}\n",
    "# tokenizer.add_special_tokens(special_tokens_dict)\n",
    "# model.resize_token_embeddings(len(tokenizer)) # Caution!!!\n",
    "# print(f\"After extended tokenizer size: {len(tokenizer)}\")\n",
    "# print(f\"After token embedding size: {model.vocab_size}\")\n"
   ]
  },
  {
   "cell_type": "markdown",
   "metadata": {},
   "source": [
    "# Generate with the base model\n",
    "\n",
    "Here we will try out the base model which does not have a chat template. "
   ]
  },
  {
   "cell_type": "code",
   "execution_count": null,
   "metadata": {},
   "outputs": [],
   "source": [
    "# base model tokenizer\n",
    "prompt = \"你是谁？\"\n",
    "inputs = tokenizer.encode(prompt, return_tensors='pt').to(model.device)\n",
    "\n",
    "outputs = model.generate(inputs, max_new_tokens=128)\n",
    "print(tokenizer.decode(outputs[0]))"
   ]
  },
  {
   "cell_type": "code",
   "execution_count": null,
   "metadata": {},
   "outputs": [],
   "source": [
    "# sft tokenizer\n",
    "messages = [\n",
    "    {\"role\": \"user\", \"content\": \"你是谁？\"}\n",
    "]\n",
    "formatted_prompt = r1_tokenizer.apply_chat_template(messages, tokenize=False, add_generation_prompt=True)\n",
    "print(formatted_prompt)\n",
    "\n",
    "inputs = r1_tokenizer(formatted_prompt, return_tensors='pt').to(model.device)\n",
    "outputs = model.generate(**inputs, max_new_tokens=512)\n",
    "\n",
    "print(tokenizer.decode(outputs[0]))"
   ]
  },
  {
   "cell_type": "markdown",
   "metadata": {},
   "source": [
    "## Dataset Preparation\n",
    "\n",
    "We will load a sample dataset and format it for training. The dataset should be structured with input-output pairs, where each input is a prompt and the output is the expected response from the model.\n",
    "\n",
    "**TRL will format input messages based on the model's chat templates.** They need to be represented as a list of dictionaries with the keys: `role` and `content`,."
   ]
  },
  {
   "cell_type": "code",
   "execution_count": null,
   "metadata": {},
   "outputs": [],
   "source": [
    "# Load a sample dataset\n",
    "from datasets import load_dataset\n",
    "\n",
    "datasets_name = \"HuggingFaceTB/smoltalk\"\n",
    "# datasets_name = \"O1-OPEN/OpenO1-SFT\"\n",
    "# datasets_name = \"open-r1/OpenR1-Math-220k\"\n",
    "\n",
    "ds = load_dataset(path=datasets_name, name='everyday-conversations')\n",
    "# ds = load_dataset(path=datasets_name, split='default')\n",
    "\n",
    "\n",
    "def process_dataset(sample):\n",
    "    content = r1_tokenizer.apply_chat_template(\n",
    "        sample['messages'], tokenize=False\n",
    "    )\n",
    "    return {\"content\": content}\n",
    "\n",
    "# def process_dataset(sample):\n",
    "#     messages = [\n",
    "#         {\"role\": \"system\", \"content\": \"You are MKLLM, created by Mike_Luck. You are a helpful assistant.\"},\n",
    "#         {\"role\": \"user\", \"content\": sample['instruction']},\n",
    "#         {\"role\": \"assistant\", \"content\": sample['output'].replace('<Thought>', '<think>').replace('</Thought>', '</think>')},\n",
    "#     ]\n",
    "#     sample = tokenizer.apply_chat_template(messages, tokenize=False, add_generation_prompt=False)\n",
    "#     return {\"content\": sample}\n",
    "\n",
    "ds = ds.map(process_dataset)\n",
    "# ds = ds['train'].train_test_split(test_size=0.1, shuffle=True) # 分割训练集为训练和测试\n",
    "# ds = ds.train_test_split(test_size=0.1, shuffle=True)\n",
    "ds"
   ]
  },
  {
   "cell_type": "code",
   "execution_count": null,
   "metadata": {},
   "outputs": [],
   "source": [
    "# ds['train'][0]['content']"
   ]
  },
  {
   "cell_type": "code",
   "execution_count": null,
   "metadata": {},
   "outputs": [],
   "source": [
    "# TODO: 🦁 If your dataset is not in a format that TRL can convert to the chat template, you will need to process it. Refer to the [module](../chat_templates.md)"
   ]
  },
  {
   "cell_type": "markdown",
   "metadata": {},
   "source": [
    "## Configuring the SFTTrainer\n",
    "\n",
    "The `SFTTrainer` is configured with various parameters that control the training process. These include the number of training steps, batch size, learning rate, and evaluation strategy. Adjust these parameters based on your specific requirements and computational resources."
   ]
  },
  {
   "cell_type": "code",
   "execution_count": null,
   "metadata": {},
   "outputs": [],
   "source": [
    "# Configure the SFTTrainer\n",
    "sft_config = SFTConfig(\n",
    "    dataset_text_field='content',\n",
    "    output_dir=\"./sft_output\",\n",
    "    # max_steps=1000,  # Adjust based on dataset size and desired training duration\n",
    "    num_train_epochs=3,\n",
    "    per_device_train_batch_size=4,  # Set according to your GPU memory capacity\n",
    "    per_device_eval_batch_size=4,\n",
    "    learning_rate=5e-5,  # Common starting point for fine-tuning\n",
    "    logging_steps=10,  # Frequency of logging training metrics\n",
    "    save_steps=200,  # Frequency of saving model checkpoints\n",
    "    eval_strategy=\"steps\",  # Evaluate the model at regular intervals\n",
    "    eval_steps=50,  # Frequency of evaluation\n",
    "    use_mps_device=(\n",
    "        True if device == \"mps\" else False\n",
    "    ),  # Use MPS for mixed precision training\n",
    "    # hub_model_id=finetune_name,  # Set a unique name for your model\n",
    "    report_to='tensorboard'\n",
    ")\n",
    "\n",
    "# Initialize the SFTTrainer\n",
    "trainer = SFTTrainer(\n",
    "    model=model,\n",
    "    args=sft_config,\n",
    "    train_dataset=ds[\"train\"],\n",
    "    tokenizer=r1_tokenizer,\n",
    "    eval_dataset=ds[\"test\"],\n",
    ")\n",
    "\n",
    "# TODO: 🦁 🐕 align the SFTTrainer params with your chosen dataset. For example, if you are using the `bigcode/the-stack-smol` dataset, you will need to choose the `content` column`"
   ]
  },
  {
   "cell_type": "markdown",
   "metadata": {},
   "source": [
    "## Training the Model\n",
    "\n",
    "With the trainer configured, we can now proceed to train the model. The training process will involve iterating over the dataset, computing the loss, and updating the model's parameters to minimize this loss."
   ]
  },
  {
   "cell_type": "code",
   "execution_count": null,
   "metadata": {},
   "outputs": [],
   "source": [
    "# Train the model\n",
    "trainer.train()\n",
    "\n",
    "finetune_name = 'sft_demo'\n",
    "# Save the model\n",
    "trainer.save_model(f\"./{finetune_name}\")"
   ]
  },
  {
   "cell_type": "code",
   "execution_count": null,
   "metadata": {},
   "outputs": [],
   "source": [
    "trainer.push_to_hub(tags=finetune_tags)"
   ]
  },
  {
   "cell_type": "markdown",
   "metadata": {},
   "source": [
    "<div style='background-color: lightblue; padding: 10px; border-radius: 5px; margin-bottom: 20px; color:black'>\n",
    "    <h2 style='margin: 0;color:blue'>Bonus Exercise: Generate with fine-tuned model</h2>\n",
    "    <p>🐕 Use the fine-tuned to model generate a response, just like with the base example..</p>\n",
    "</div>"
   ]
  },
  {
   "cell_type": "code",
   "execution_count": null,
   "metadata": {},
   "outputs": [],
   "source": [
    "# Test the fine-tuned model on the same prompt\n",
    "\n",
    "# Let's test the base model before training\n",
    "prompt = \"Write a haiku about programming\"\n",
    "\n",
    "# Format with template\n",
    "messages = [{\"role\": \"user\", \"content\": prompt}]\n",
    "formatted_prompt = tokenizer.apply_chat_template(messages, tokenize=False)\n",
    "\n",
    "# Generate response\n",
    "inputs = tokenizer(formatted_prompt, return_tensors=\"pt\").to(device)\n",
    "\n",
    "# TODO: use the fine-tuned to model generate a response, just like with the base example."
   ]
  },
  {
   "cell_type": "markdown",
   "metadata": {},
   "source": [
    "## 💐 You're done!\n",
    "\n",
    "This notebook provided a step-by-step guide to fine-tuning the `HuggingFaceTB/SmolLM2-135M` model using the `SFTTrainer`. By following these steps, you can adapt the model to perform specific tasks more effectively. If you want to carry on working on this course, here are steps you could try out:\n",
    "\n",
    "- Try this notebook on a harder difficulty\n",
    "- Review a colleagues PR\n",
    "- Improve the course material via an Issue or PR."
   ]
  }
 ],
 "metadata": {
  "kernelspec": {
   "display_name": "py310",
   "language": "python",
   "name": "python3"
  },
  "language_info": {
   "codemirror_mode": {
    "name": "ipython",
    "version": 3
   },
   "file_extension": ".py",
   "mimetype": "text/x-python",
   "name": "python",
   "nbconvert_exporter": "python",
   "pygments_lexer": "ipython3",
   "version": "3.10.13"
  }
 },
 "nbformat": 4,
 "nbformat_minor": 2
}
